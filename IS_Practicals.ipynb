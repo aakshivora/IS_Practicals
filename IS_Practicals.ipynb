{
  "nbformat": 4,
  "nbformat_minor": 0,
  "metadata": {
    "colab": {
      "provenance": [],
      "authorship_tag": "ABX9TyMdG+uEgMAcx7i2RCEab6gG",
      "include_colab_link": true
    },
    "kernelspec": {
      "name": "python3",
      "display_name": "Python 3"
    },
    "language_info": {
      "name": "python"
    }
  },
  "cells": [
    {
      "cell_type": "markdown",
      "metadata": {
        "id": "view-in-github",
        "colab_type": "text"
      },
      "source": [
        "<a href=\"https://colab.research.google.com/github/aakshivora/IS_Practicals/blob/main/IS_Practicals.ipynb\" target=\"_parent\"><img src=\"https://colab.research.google.com/assets/colab-badge.svg\" alt=\"Open In Colab\"/></a>"
      ]
    },
    {
      "cell_type": "markdown",
      "source": [
        "### **Euclidian Algo**"
      ],
      "metadata": {
        "id": "Utv6X0gOoqZS"
      }
    },
    {
      "cell_type": "code",
      "execution_count": null,
      "metadata": {
        "colab": {
          "base_uri": "https://localhost:8080/"
        },
        "id": "kkDIOHcVlkfC",
        "outputId": "8cfe5b62-a6b1-44b1-ccc1-d9ba2a0d4cea"
      },
      "outputs": [
        {
          "output_type": "stream",
          "name": "stdout",
          "text": [
            "Enter first number: 4\n",
            "Enter second number: 6\n",
            "The GCD of 4 and 6 is 2\n"
          ]
        }
      ],
      "source": [
        "def euclidian_algo(a, b):\n",
        "  while b:\n",
        "    a, b = b, a%b\n",
        "  return a\n",
        "\n",
        "num1 = int(input(\"Enter first number: \"))\n",
        "num2 = int(input(\"Enter second number: \"))\n",
        "gcd = euclidian_algo(num1, num2)\n",
        "print(f\"The GCD of {num1} and {num2} is {gcd}\")"
      ]
    },
    {
      "cell_type": "markdown",
      "source": [
        "### **Extended Eucidlian Algo**"
      ],
      "metadata": {
        "id": "CaTvxRlho0TF"
      }
    },
    {
      "cell_type": "code",
      "source": [
        "def extended_euclidian(a, b):\n",
        "  if b == 0:\n",
        "    return a, 1,0\n",
        "\n",
        "  gcd, x1, y1 = extended_euclidian(b, a%b)\n",
        "  x = y1\n",
        "  y = x1 - (a //b) * y1\n",
        "  return gcd, x, y\n",
        "\n",
        "num1 = int(input(\"Enter first number: \"))\n",
        "num2 = int(input(\"Enter second number: \"))\n",
        "gcd, x, y = extended_euclidian(num1, num2)\n",
        "print(f\"The GCD of {num1} and {num2} is {gcd}\")\n",
        "print(f\"The coeeficents (x,y) atisfying are: ({x},{y})\")\n"
      ],
      "metadata": {
        "colab": {
          "base_uri": "https://localhost:8080/"
        },
        "id": "HIzzESnvmpMA",
        "outputId": "ab9c1b3f-10b0-4092-be8f-a23bec5e62fc"
      },
      "execution_count": null,
      "outputs": [
        {
          "output_type": "stream",
          "name": "stdout",
          "text": [
            "Enter first number: 9\n",
            "Enter second number: 7\n",
            "The GCD of 9 and 7 is 1\n",
            "The coeeficents (x,y) atisfying are: (-3,4)\n"
          ]
        }
      ]
    },
    {
      "cell_type": "markdown",
      "source": [
        "### Ceaser Cipher"
      ],
      "metadata": {
        "id": "7O_D1fVmo7LS"
      }
    },
    {
      "cell_type": "code",
      "source": [
        "string = input(\"Enter a string: \")\n",
        "string.lower()\n",
        "encrypted = \"\"\n",
        "key = 3\n",
        "for x in string:\n",
        "  if (ord(x) == 32):\n",
        "    encrypted += \" \"\n",
        "  else:\n",
        "    encrypted += chr(((ord(x) + key - ord('a'))%26 + ord('a')))\n",
        "print(encrypted)\n",
        "\n",
        "string = input(\"Enter a string: \")\n",
        "string.lower()\n",
        "decrypted = \"\"\n",
        "key = -3\n",
        "for x in string:\n",
        "  if (ord(x) == 32):\n",
        "    decrypted += \" \"\n",
        "  else:\n",
        "    decrypted += chr(((ord(x) + key - ord('a'))%26 + ord('a')))\n",
        "print(decrypted)"
      ],
      "metadata": {
        "colab": {
          "base_uri": "https://localhost:8080/"
        },
        "id": "oE-PUvCyniHm",
        "outputId": "a5515c86-2c47-4b46-c755-8efe258886c7"
      },
      "execution_count": null,
      "outputs": [
        {
          "output_type": "stream",
          "name": "stdout",
          "text": [
            "Enter a string: attack\n",
            "dwwdfn\n",
            "Enter a string: dwwdfn\n",
            "attack\n"
          ]
        }
      ]
    },
    {
      "cell_type": "markdown",
      "source": [
        "### **Vernam Cipher**"
      ],
      "metadata": {
        "id": "z73TWwYRrHWs"
      }
    },
    {
      "cell_type": "code",
      "source": [
        "def vernam_encrypt(plaintext, key):\n",
        "    encrypted_text = \"\"\n",
        "    for i in range(len(plaintext)):\n",
        "        encrypted_char = chr(ord(plaintext[i]) ^ ord(key[i]))\n",
        "        encrypted_text += encrypted_char\n",
        "    return encrypted_text\n",
        "\n",
        "def vernam_decrypt(ciphertext, key):\n",
        "    decrypted_text = \"\"\n",
        "    for i in range(len(ciphertext)):\n",
        "        decrypted_char = chr(ord(ciphertext[i]) ^ ord(key[i]))\n",
        "        decrypted_text += decrypted_char\n",
        "    return decrypted_text\n",
        "\n",
        "plaintext = input(\"Enter the plaintext: \")\n",
        "key = input(\"Enter the key (should be the same length as plaintext): \")\n",
        "\n",
        "if len(plaintext) != len(key):\n",
        "    print(\"Error: The length of the plaintext and key should be the same.\")\n",
        "else:\n",
        "    encrypted_text = vernam_encrypt(plaintext, key)\n",
        "    decrypted_text = vernam_decrypt(encrypted_text, key)\n",
        "\n",
        "    print(f\"Encrypted text: {encrypted_text}\")\n",
        "    print(f\"Decrypted text: {decrypted_text}\")"
      ],
      "metadata": {
        "colab": {
          "base_uri": "https://localhost:8080/"
        },
        "id": "mc8xff-8rCiZ",
        "outputId": "b2804d96-1a1c-4d5c-d8f1-e2df469e0f08"
      },
      "execution_count": null,
      "outputs": [
        {
          "output_type": "stream",
          "name": "stdout",
          "text": [
            "Enter the plaintext: HELLO\n",
            "Enter the key (should be the same length as plaintext): OCVHW\n",
            "Encrypted text: \u0007\u0006\u001a\u0004\u0018\n",
            "Decrypted text: HELLO\n"
          ]
        }
      ]
    },
    {
      "cell_type": "markdown",
      "source": [
        "### **Brute Force Caeser Cipher**"
      ],
      "metadata": {
        "id": "q8o8VOipxoBH"
      }
    },
    {
      "cell_type": "code",
      "source": [
        "def be(text,s):\n",
        "    result = \"\"\n",
        "    for i in range(len(text)):\n",
        "        char = text[i]\n",
        "        if (char.isupper()):\n",
        "            result += chr((ord(char) + s-65) % 26 + 65)\n",
        "        else:\n",
        "            result += chr((ord(char) + s - 97) % 26 + 97)\n",
        "    return result\n",
        "\n",
        "def bruteforcedecrypt(text, encrypted_text):\n",
        "  for i in range(1,26):\n",
        "    decrypted_text = ''\n",
        "    key = -i\n",
        "    for x in encrypted_text:\n",
        "      if(ord(x)==32):\n",
        "        decrypted_text += \" \"\n",
        "      else:\n",
        "        decrypted_text += chr(((ord(x)+key-ord('a'))%26 + ord('a')))\n",
        "    print(decrypted_text)\n",
        "    if(decrypted_text == text):\n",
        "      print(\"MATCHED FOUND\")\n",
        "\n",
        "\n",
        "text = \"ABCD\"\n",
        "s = 4\n",
        "print(f\"Message : {text}\")\n",
        "c= print(f\"encrypted Message : {be(text, s)}\")\n",
        "print(f\"decrypted Message : {bruteforcedecrypt(text,be(text, s))}\")"
      ],
      "metadata": {
        "colab": {
          "base_uri": "https://localhost:8080/"
        },
        "id": "uA08D6xTukQ6",
        "outputId": "8f47a80c-142d-4f7b-f10a-6551d9f9765b"
      },
      "execution_count": null,
      "outputs": [
        {
          "output_type": "stream",
          "name": "stdout",
          "text": [
            "Message : ABCD\n",
            "encrypted Message : EFGH\n",
            "xyza\n",
            "wxyz\n",
            "vwxy\n",
            "uvwx\n",
            "tuvw\n",
            "stuv\n",
            "rstu\n",
            "qrst\n",
            "pqrs\n",
            "opqr\n",
            "nopq\n",
            "mnop\n",
            "lmno\n",
            "klmn\n",
            "jklm\n",
            "ijkl\n",
            "hijk\n",
            "ghij\n",
            "fghi\n",
            "efgh\n",
            "defg\n",
            "cdef\n",
            "bcde\n",
            "abcd\n",
            "zabc\n",
            "decrypted Message : None\n"
          ]
        }
      ]
    },
    {
      "cell_type": "markdown",
      "source": [
        "### Rail-Fence Cipher"
      ],
      "metadata": {
        "id": "Khe9JbCQCZbN"
      }
    },
    {
      "cell_type": "code",
      "source": [
        "def encryptRailFence(text, key):\n",
        "  rail = [['\\n' for i in range(len(text))]for j in range(key)]\n",
        "  dir_down = False\n",
        "  row, col = 0,0\n",
        "  for i in range(len(text)):\n",
        "    if(row==0)or(row == key -1):\n",
        "      dir_down = not dir_down\n",
        "    rail[row][col] = text[i]\n",
        "    col += 1\n",
        "    if dir_down:\n",
        "      row += 1\n",
        "    else:\n",
        "      row -= 1\n",
        "  result = []\n",
        "  for i in range(key):\n",
        "    for j in range(len(text)):\n",
        "      if rail[i][j] != '\\n':\n",
        "        result.append(rail[i][j])\n",
        "  return(\"\".join(result))\n",
        "\n",
        "def decryptRailFence(cipher, key):\n",
        "    rail = [['\\n' for i in range(len(cipher))]for j in range(key)]\n",
        "    dir_down = None\n",
        "    row, col = 0, 0\n",
        "    for i in range(len(cipher)):\n",
        "        if row == 0:\n",
        "            dir_down = True\n",
        "        if row == key - 1:\n",
        "            dir_down = False\n",
        "        rail[row][col] = '*'\n",
        "        col += 1\n",
        "        if dir_down:\n",
        "            row += 1\n",
        "        else:\n",
        "            row -= 1\n",
        "\n",
        "    index = 0\n",
        "    for i in range(key):\n",
        "        for j in range(len(cipher)):\n",
        "            if ((rail[i][j] == '*') and\n",
        "            (index < len(cipher))):\n",
        "                rail[i][j] = cipher[index]\n",
        "                index += 1\n",
        "\n",
        "    result = []\n",
        "    row, col = 0, 0\n",
        "    for i in range(len(cipher)):\n",
        "        if row == 0:\n",
        "            dir_down = True\n",
        "        if row == key-1:\n",
        "            dir_down = False\n",
        "        if (rail[row][col] != '*'):\n",
        "            result.append(rail[row][col])\n",
        "            col += 1\n",
        "        if dir_down:\n",
        "            row += 1\n",
        "        else:\n",
        "            row -= 1\n",
        "    return(\"\".join(result))\n",
        "\n",
        "msg = \"GeeksForGeeks\"\n",
        "encrypt_msg = encryptRailFence(msg, 3)\n",
        "decrypt_msg = decryptRailFence(encrypt_msg, 3)\n",
        "print(f\"Original Message is {msg}\")\n",
        "print(f\"Encryption msg is {encrypt_msg}\")\n",
        "print(f\"Decrypted msg is {decrypt_msg}\")"
      ],
      "metadata": {
        "colab": {
          "base_uri": "https://localhost:8080/"
        },
        "id": "s5IV7rslHSnR",
        "outputId": "3b8613a6-b264-45f0-f7b7-96d10e43265d"
      },
      "execution_count": null,
      "outputs": [
        {
          "output_type": "stream",
          "name": "stdout",
          "text": [
            "Original Message is GeeksForGeeks\n",
            "Encryption msg is GsGsekFrekeoe\n",
            "Decrypted msg is GeeksForGeeks\n"
          ]
        }
      ]
    },
    {
      "cell_type": "markdown",
      "source": [
        "### Row Tansposition"
      ],
      "metadata": {
        "id": "FBa7FMpBH3vz"
      }
    },
    {
      "cell_type": "code",
      "source": [],
      "metadata": {
        "id": "k3tbppB9PghE"
      },
      "execution_count": null,
      "outputs": []
    },
    {
      "cell_type": "markdown",
      "source": [
        "### **Column Transposition**"
      ],
      "metadata": {
        "id": "UljIUOWTS1vq"
      }
    },
    {
      "cell_type": "code",
      "source": [
        "import math\n",
        "key = \"HACK\"\n",
        "\n",
        "def encryptRT(msg):\n",
        "  cipher = \"\"\n",
        "  k_index = 0\n",
        "  msg_len = float(len(msg))\n",
        "  msg_lst = list(msg)\n",
        "  key_lst = sorted(list(key))\n",
        "  col = len(key)\n",
        "  row = int(math.ceil(msg_len/col))\n",
        "  fill_null = int((row*col)-msg_len)\n",
        "  msg_lst.extend('_'*fill_null)\n",
        "  matrix = [msg_lst[i: i+col] for i in range(0,len(msg_lst),col)]\n",
        "  for _ in range(col):\n",
        "    curr_idx = key.index(key_lst[k_index])\n",
        "    cipher += \"\".join([row[curr_idx]for row in matrix])\n",
        "    k_index += 1\n",
        "  return cipher\n",
        "\n",
        "def decryptRT(cipher):\n",
        "    msg = \"\"\n",
        "    k_indx = 0\n",
        "    msg_indx = 0\n",
        "    msg_len = float(len(cipher))\n",
        "    msg_lst = list(cipher)\n",
        "    col = len(key)\n",
        "    row = int(math.ceil(msg_len / col))\n",
        "    key_lst = sorted(list(key))\n",
        "    dec_cipher = []\n",
        "    for _ in range(row):\n",
        "        dec_cipher += [[None] * col]\n",
        "    for _ in range(col):\n",
        "        curr_idx = key.index(key_lst[k_indx])\n",
        "        for j in range(row):\n",
        "            dec_cipher[j][curr_idx] = msg_lst[msg_indx]\n",
        "            msg_indx += 1\n",
        "        k_indx += 1\n",
        "    try:\n",
        "        msg = ''.join(sum(dec_cipher, []))\n",
        "    except TypeError:\n",
        "        raise TypeError(\"This program cannot handle repeating words.\")\n",
        "\n",
        "    null_count = msg.count('_')\n",
        "    if null_count > 0:\n",
        "        return msg[: -null_count]\n",
        "    return msg\n",
        "\n",
        "msg = \"Geeks for Geeks\"\n",
        "cipher = encryptRT(msg)\n",
        "print(\"Encrypted Message: {}\".format(cipher))\n",
        "\n",
        "print(\"Decryped Message: {}\".format(decryptRT(cipher)))"
      ],
      "metadata": {
        "colab": {
          "base_uri": "https://localhost:8080/"
        },
        "id": "n1OmuqttS0-7",
        "outputId": "bae1012a-5f78-498e-f601-2f0fc4cecaca"
      },
      "execution_count": null,
      "outputs": [
        {
          "output_type": "stream",
          "name": "stdout",
          "text": [
            "Encrypted Message: e  kefGsGsrekoe_\n",
            "Decryped Message: Geeks for Geeks\n"
          ]
        }
      ]
    },
    {
      "cell_type": "markdown",
      "source": [
        "### **PlayFair Cipher**"
      ],
      "metadata": {
        "id": "RoZ98nYaat2z"
      }
    },
    {
      "cell_type": "code",
      "source": [
        "def create_playfair_matrix(key):\n",
        "    matrix = []\n",
        "    key = key.replace(\"J\", \"I\")\n",
        "    key_set = set()\n",
        "\n",
        "    for char in key:\n",
        "        if char not in key_set:\n",
        "            key_set.add(char)\n",
        "            matrix.append(char)\n",
        "\n",
        "    alphabet = \"ABCDEFGHIKLMNOPQRSTUVWXYZ\"\n",
        "\n",
        "    for char in alphabet:\n",
        "        if char not in key_set:\n",
        "            key_set.add(char)\n",
        "            matrix.append(char)\n",
        "\n",
        "    playfair_matrix = [matrix[i:i + 5] for i in range(0, 25, 5)]\n",
        "\n",
        "    return playfair_matrix\n",
        "\n",
        "def find_coordinates(matrix, char):\n",
        "    for i, row in enumerate(matrix):\n",
        "        if char in row:\n",
        "            return i, row.index(char)\n",
        "    return None\n",
        "\n",
        "def playfair_encrypt(plaintext, key):\n",
        "    matrix = create_playfair_matrix(key)\n",
        "    ciphertext = \"\"\n",
        "    plaintext = plaintext.replace(\"J\", \"I\")\n",
        "    plaintext = plaintext.replace(\" \", \"\")\n",
        "    plaintext = [plaintext[i:i+2] for i in range(0, len(plaintext), 2)]\n",
        "    for bigram in plaintext:\n",
        "        a, b = bigram\n",
        "        row_a, col_a = find_coordinates(matrix, a)\n",
        "        row_b, col_b = find_coordinates(matrix, b)\n",
        "\n",
        "        if row_a == row_b:\n",
        "            ciphertext += matrix[row_a][(col_a + 1) % 5] + matrix[row_b][(col_b + 1) % 5]\n",
        "        elif col_a == col_b:\n",
        "            ciphertext += matrix[(row_a + 1) % 5][col_a] + matrix[(row_b + 1) % 5][col_b]\n",
        "        else:\n",
        "            ciphertext += matrix[row_a][col_b] + matrix[row_b][col_a]\n",
        "    return ciphertext\n",
        "\n",
        "def playfair_decrypt(ciphertext, key):\n",
        "    matrix = create_playfair_matrix(key)\n",
        "    plaintext = \"\"\n",
        "    ciphertext = ciphertext.replace(\"J\", \"I\")\n",
        "    ciphertext = [ciphertext[i:i+2] for i in range(0, len(ciphertext), 2)]\n",
        "\n",
        "    for bigram in ciphertext:\n",
        "        a, b = bigram\n",
        "        row_a, col_a = find_coordinates(matrix, a)\n",
        "        row_b, col_b = find_coordinates(matrix, b)\n",
        "\n",
        "        if row_a == row_b:\n",
        "            plaintext += matrix[row_a][(col_a - 1) % 5] + matrix[row_b][(col_b - 1) % 5]\n",
        "        elif col_a == col_b:\n",
        "            plaintext += matrix[(row_a - 1) % 5][col_a] + matrix[(row_b - 1) % 5][col_b]\n",
        "        else:\n",
        "            plaintext += matrix[row_a][col_b] + matrix[row_b][col_a]\n",
        "\n",
        "    return plaintext\n",
        "\n",
        "key = \"MONARCHY\"\n",
        "plaintext = \"ATTACK\"\n",
        "encrypted = playfair_encrypt(plaintext, key)\n",
        "print(\"Encrypted:\", encrypted)\n",
        "decrypted = playfair_decrypt(encrypted, key)\n",
        "print(\"Decrypted:\", decrypted)"
      ],
      "metadata": {
        "colab": {
          "base_uri": "https://localhost:8080/"
        },
        "id": "3oqVV0ZZZe4k",
        "outputId": "efee5562-843a-4b9f-f8a2-96d9fc44a4b3"
      },
      "execution_count": null,
      "outputs": [
        {
          "output_type": "stream",
          "name": "stdout",
          "text": [
            "Encrypted: RSSRDE\n",
            "Decrypted: ATTACK\n"
          ]
        }
      ]
    },
    {
      "cell_type": "markdown",
      "source": [
        "### Product Cipher"
      ],
      "metadata": {
        "id": "GFuR_tB9LAlz"
      }
    },
    {
      "cell_type": "code",
      "source": [
        "def caesar_cipher(text, shift):\n",
        "    result = \"\"\n",
        "    for char in text:\n",
        "        if char.isalpha():\n",
        "            start = ord('A') if char.isupper() else ord('a')\n",
        "            result += chr((ord(char) - start + shift) % 26 + start)\n",
        "        else:\n",
        "            result += char\n",
        "    return result\n",
        "\n",
        "def create_playfair_matrix(key):\n",
        "    matrix = []\n",
        "    key = key.replace(\"J\", \"I\")\n",
        "    key_set = set()\n",
        "    for char in key:\n",
        "        if char not in key_set:\n",
        "            key_set.add(char)\n",
        "            matrix.append(char)\n",
        "    alphabet = \"ABCDEFGHIKLMNOPQRSTUVWXYZ\"\n",
        "    for char in alphabet:\n",
        "        if char not in key_set:\n",
        "            key_set.add(char)\n",
        "            matrix.append(char)\n",
        "    playfair_matrix = [matrix[i:i + 5] for i in range(0, 25, 5)]\n",
        "    return playfair_matrix\n",
        "\n",
        "def find_coordinates(matrix, char):\n",
        "    for i, row in enumerate(matrix):\n",
        "        if char in row:\n",
        "            return i, row.index(char)\n",
        "    return None\n",
        "\n",
        "def playfair_encrypt(plaintext, key):\n",
        "    matrix = create_playfair_matrix(key)\n",
        "    ciphertext = \"\"\n",
        "    plaintext = plaintext.replace(\"J\", \"I\")\n",
        "    plaintext = plaintext.replace(\" \", \"\")\n",
        "    plaintext = [plaintext[i:i+2] for i in range(0, len(plaintext), 2)]\n",
        "    for bigram in plaintext:\n",
        "        a, b = bigram\n",
        "        row_a, col_a = find_coordinates(matrix, a)\n",
        "        row_b, col_b = find_coordinates(matrix, b)\n",
        "\n",
        "        if row_a == row_b:\n",
        "            ciphertext += matrix[row_a][(col_a + 1) % 5] + matrix[row_b][(col_b + 1) % 5]\n",
        "        elif col_a == col_b:\n",
        "            ciphertext += matrix[(row_a + 1) % 5][col_a] + matrix[(row_b + 1) % 5][col_b]\n",
        "        else:\n",
        "            ciphertext += matrix[row_a][col_b] + matrix[row_b][col_a]\n",
        "    return ciphertext\n",
        "\n",
        "def product_cipher(plaintext, caesar_shift, playfair_key):\n",
        "    caesar_result = caesar_cipher(plaintext, caesar_shift)\n",
        "    playfair_result = playfair_encrypt(caesar_result, playfair_key)\n",
        "    return playfair_result\n",
        "\n",
        "def main():\n",
        "    plaintext = input(\"Enter the plaintext: \").upper()\n",
        "    caesar_shift = int(input(\"Enter the Caesar shift: \"))\n",
        "    playfair_key = input(\"Enter the Playfair key: \").upper()\n",
        "\n",
        "    ciphertext = product_cipher(plaintext, caesar_shift, playfair_key)\n",
        "    print(\"Ciphertext:\", ciphertext)\n",
        "\n",
        "if __name__ == \"__main__\":\n",
        "    main()"
      ],
      "metadata": {
        "colab": {
          "base_uri": "https://localhost:8080/"
        },
        "id": "0sAoVCYta5n5",
        "outputId": "c42a7f58-89fe-46f1-8581-da05df930b15"
      },
      "execution_count": null,
      "outputs": [
        {
          "output_type": "stream",
          "name": "stdout",
          "text": [
            "Enter the plaintext: attack\n",
            "Enter the Caesar shift: 3\n",
            "Enter the Playfair key: monarchy\n",
            "Ciphertext: YZZYGO\n"
          ]
        }
      ]
    },
    {
      "cell_type": "markdown",
      "source": [
        "### RSA Encryption Decryption"
      ],
      "metadata": {
        "id": "Y5Zf1aeP7OEX"
      }
    },
    {
      "cell_type": "code",
      "source": [
        "def is_prime(num):\n",
        "    if num < 2:\n",
        "        return False\n",
        "    for i in range(2, int(math.sqrt(num)) + 1):\n",
        "        if num % i == 0:\n",
        "            return False\n",
        "    return True\n",
        "\n",
        "\n",
        "def gcd(a, b):\n",
        "    while b:\n",
        "        a, b = b, a % b\n",
        "    return a\n",
        "\n",
        "\n",
        "def mod_inverse(e, phi):\n",
        "    d = 0\n",
        "    x1, x2 = 1, 0\n",
        "    y1, y2 = 0, 1\n",
        "    while phi:\n",
        "        q = e // phi\n",
        "        e, phi = phi, e % phi\n",
        "        x1, x2 = x2, x1 - q * x2\n",
        "        y1, y2 = y2, y1 - q * y2\n",
        "    if x1 < 0:\n",
        "        x1 += phi\n",
        "    return x1\n",
        "\n",
        "\n",
        "while True:\n",
        "    x = int(input(\"Enter a prime number (x): \"))\n",
        "    y = int(input(\"Enter another prime number (y): \"))\n",
        "\n",
        "    if is_prime(x) and is_prime(y):\n",
        "        break\n",
        "    else:\n",
        "        print(\"Both numbers should be prime.\")\n",
        "\n",
        "n = x * y\n",
        "phi = (x - 1) * (y - 1)\n",
        "\n",
        "print(\"n =\", n)\n",
        "print(\"phi(n) =\", phi)\n",
        "\n",
        "\n",
        "while True:\n",
        "    e = int(input(\"Enter a value for e (1 < e < {}): \".format(phi)))\n",
        "    if 1 < e < phi and gcd(e, phi) == 1:\n",
        "        break\n",
        "    else:\n",
        "        print(\"e must be a positive integer coprime to phi.\")\n",
        "\n",
        "\n",
        "d = mod_inverse(e, phi)\n",
        "\n",
        "print(\"e =\", e)\n",
        "print(\"d =\", d)\n",
        "\n",
        "public_key = (n, e)\n",
        "\n",
        "private_key = (n, d)\n",
        "\n",
        "print(\"Public Key (n, e):\", public_key)\n",
        "print(\"Private Key (n, d):\", private_key)\n",
        "\n",
        "\n",
        "plaintext = int(input(\"Enter the plaintext (as a number): \"))\n",
        "ciphertext = (plaintext ** e) % n\n",
        "print(\"Ciphertext:\", ciphertext)\n",
        "\n",
        "decryption_ciphertext = int(input(\"Enter the ciphertext for decryption: \"))\n",
        "decrypted_text = (decryption_ciphertext ** d) % n\n",
        "print(\"Decrypted Plaintext:\", decrypted_text)"
      ],
      "metadata": {
        "colab": {
          "base_uri": "https://localhost:8080/"
        },
        "id": "EXoX1T4RhdHf",
        "outputId": "7138bb0f-92c8-4944-ec44-032886c33f6a"
      },
      "execution_count": null,
      "outputs": [
        {
          "output_type": "stream",
          "name": "stdout",
          "text": [
            "Enter a prime number (x): 3\n",
            "Enter another prime number (y): 11\n",
            "n = 33\n",
            "phi(n) = 20\n",
            "Enter a value for e (1 < e < 20): 7\n",
            "e = 7\n",
            "d = 3\n",
            "Public Key (n, e): (33, 7)\n",
            "Private Key (n, d): (33, 3)\n",
            "Enter the plaintext (as a number): 2\n",
            "Ciphertext: 29\n",
            "Enter the ciphertext for decryption: 29\n",
            "Decrypted Plaintext: 2\n"
          ]
        }
      ]
    },
    {
      "cell_type": "markdown",
      "source": [
        "### RSA Digital Signature"
      ],
      "metadata": {
        "id": "im94XSpk7S3S"
      }
    },
    {
      "cell_type": "code",
      "source": [
        "import random\n",
        "\n",
        "def generate_keypair(p, q):\n",
        "    n = p * q\n",
        "    phi = (p - 1) * (q - 1)\n",
        "\n",
        "    e = random.randint(2, phi - 1)\n",
        "    while gcd(e, phi) != 1:\n",
        "        e = random.randint(2, phi - 1)\n",
        "\n",
        "    d = mod_inverse(e, phi)\n",
        "    return (e, n), (d, n)\n",
        "\n",
        "def gcd(a, b):\n",
        "    while b != 0:\n",
        "        a, b = b, a % b\n",
        "    return a\n",
        "\n",
        "def mod_inverse(a, m):\n",
        "    m0, x0, x1 = m, 0, 1\n",
        "    while a > 1:\n",
        "        q = a // m\n",
        "        m, a = a % m, m\n",
        "        x0, x1 = x1 - q * x0, x0\n",
        "    return x1 + m0 if x1 < 0 else x1\n",
        "\n",
        "def sign_message(message, private_key):\n",
        "    d, n = private_key\n",
        "    signature = pow(message, d, n)\n",
        "    return signature\n",
        "\n",
        "def verify_signature(signature, message, public_key):\n",
        "    e, n = public_key\n",
        "    decrypted_signature = pow(signature, e, n)\n",
        "    return decrypted_signature == message\n",
        "\n",
        "p = 61\n",
        "q = 53\n",
        "message = 42\n",
        "\n",
        "public_key, private_key = generate_keypair(p, q)\n",
        "signature = sign_message(message, private_key)\n",
        "\n",
        "is_verified = verify_signature(signature, message, public_key)\n",
        "if is_verified:\n",
        "    print(\"Signature is valid.\")\n",
        "else:\n",
        "    print(\"Signature is not valid.\")"
      ],
      "metadata": {
        "colab": {
          "base_uri": "https://localhost:8080/"
        },
        "id": "3nyr0AQ21_cF",
        "outputId": "9e941b96-c40f-47f9-9cb0-77bc6f199956"
      },
      "execution_count": 3,
      "outputs": [
        {
          "output_type": "stream",
          "name": "stdout",
          "text": [
            "Signature is valid.\n"
          ]
        }
      ]
    },
    {
      "cell_type": "markdown",
      "source": [
        "### Diffie Hellman"
      ],
      "metadata": {
        "id": "h1mLnG_sIqPj"
      }
    },
    {
      "cell_type": "code",
      "source": [
        "def prime_checker(p):\n",
        "\tif p < 2:\n",
        "\t\treturn -1\n",
        "\tfor i in range(2, int(math.sqrt(p)+1)):\n",
        "\t\tif p % i == 0:\n",
        "\t\t\treturn -1\n",
        "\treturn 1\n",
        "\n",
        "def primitive_check(g, p, L):\n",
        "\tfor i in range(1, p):\n",
        "\t\tL.append(pow(g, i) % p)\n",
        "\tfor i in range(1, p):\n",
        "\t\tif L.count(i) > 1:\n",
        "\t\t\tL.clear()\n",
        "\t\t\treturn -1\n",
        "\t\treturn 1\n",
        "\n",
        "l = []\n",
        "while 1:\n",
        "\tP = int(input(\"Enter P : \"))\n",
        "\tif prime_checker(P) == -1:\n",
        "\t\tprint(\"Number Is Not Prime, Please Enter Again!\")\n",
        "\t\tcontinue\n",
        "\tbreak\n",
        "\n",
        "while 1:\n",
        "\tG = int(input(f\"Enter The Primitive Root Of {P} : \"))\n",
        "\tif primitive_check(G, P, l) == -1:\n",
        "\t\tprint(f\"Number Is Not A Primitive Root Of {P}, Please Try Again!\")\n",
        "\t\tcontinue\n",
        "\tbreak\n",
        "\n",
        "x1, x2 = int(input(\"Enter The Private Key Of User 1 : \")), int(\n",
        "\tinput(\"Enter The Private Key Of User 2 : \"))\n",
        "while 1:\n",
        "\tif x1 >= P or x2 >= P:\n",
        "\t\tprint(f\"Private Key Of Both The Users Should Be Less Than {P}!\")\n",
        "\t\tcontinue\n",
        "\tbreak\n",
        "\n",
        "y1, y2 = pow(G, x1) % P, pow(G, x2) % P\n",
        "\n",
        "k1, k2 = pow(y2, x1) % P, pow(y1, x2) % P\n",
        "\n",
        "print(f\"\\nSecret Key For User 1 Is {k1}\\nSecret Key For User 2 Is {k2}\\n\")\n",
        "\n",
        "if k1 == k2:\n",
        "\tprint(\"Keys Have Been Exchanged Successfully\")\n",
        "else:\n",
        "\tprint(\"Keys Have Not Been Exchanged Successfully\")"
      ],
      "metadata": {
        "colab": {
          "base_uri": "https://localhost:8080/"
        },
        "id": "TBrMjR2O7iA9",
        "outputId": "132a6cb1-e993-42a4-9fe1-44896220328b"
      },
      "execution_count": null,
      "outputs": [
        {
          "output_type": "stream",
          "name": "stdout",
          "text": [
            "Enter P : 7\n",
            "Enter The Primitive Root Of 7 : 3\n",
            "Enter The Private Key Of User 1 : 2\n",
            "Enter The Private Key Of User 2 : 5\n",
            "\n",
            "Secret Key For User 1 Is 4\n",
            "Secret Key For User 2 Is 4\n",
            "\n",
            "Keys Have Been Exchanged Successfully\n"
          ]
        }
      ]
    },
    {
      "cell_type": "markdown",
      "source": [
        "### Diffie Hellman Man in the Middle"
      ],
      "metadata": {
        "id": "iKgN-KtFGB77"
      }
    },
    {
      "cell_type": "code",
      "source": [
        "import random\n",
        "p = int(input('Enter a prime number : '))\n",
        "g = int(input('Enter a number : '))\n",
        "\n",
        "class A:\n",
        "\tdef __init__(self):\n",
        "\t\tself.n = random.randint(1, p)\n",
        "\n",
        "\tdef publish(self):\n",
        "\t\treturn (g**self.n)%p\n",
        "\n",
        "\tdef compute_secret(self, gb):\n",
        "\t\treturn (gb**self.n)%p\n",
        "\n",
        "\n",
        "class B:\n",
        "\tdef __init__(self):\n",
        "\t\tself.a = random.randint(1, p)\n",
        "\t\tself.b = random.randint(1, p)\n",
        "\t\tself.arr = [self.a,self.b]\n",
        "\n",
        "\tdef publish(self, i):\n",
        "\t\treturn (g**self.arr[i])%p\n",
        "\n",
        "\tdef compute_secret(self, ga, i):\n",
        "\t\treturn (ga**self.arr[i])%p\n",
        "\n",
        "\n",
        "alice = A()\n",
        "bob = A()\n",
        "eve = B()\n",
        "\n",
        "print(f'Alice selected (a) : {alice.n}')\n",
        "print(f'Bob selected (b) : {bob.n}')\n",
        "print(f'Eve selected private number for Alice (c) : {eve.a}')\n",
        "print(f'Eve selected private number for Bob (d) : {eve.b}')\n",
        "\n",
        "ga = alice.publish()\n",
        "gb = bob.publish()\n",
        "gea = eve.publish(0)\n",
        "geb = eve.publish(1)\n",
        "print(f'Alice published (ga): {ga}')\n",
        "print(f'Bob published (gb): {gb}')\n",
        "print(f'Eve published value for Alice (gc): {gea}')\n",
        "print(f'Eve published value for Bob (gd): {geb}')\n",
        "\n",
        "sa = alice.compute_secret(gea)\n",
        "sea = eve.compute_secret(ga,0)\n",
        "sb = bob.compute_secret(geb)\n",
        "seb = eve.compute_secret(gb,1)\n",
        "print(f'Alice computed (S1) : {sa}')\n",
        "print(f'Eve computed key for Alice (S1) : {sea}')\n",
        "print(f'Bob computed (S2) : {sb}')\n",
        "print(f'Eve computed key for Bob (S2) : {seb}')"
      ],
      "metadata": {
        "colab": {
          "base_uri": "https://localhost:8080/"
        },
        "id": "gh_FOymaJV6q",
        "outputId": "d828d2ae-c25f-4dbd-b22b-392caaf4a70b"
      },
      "execution_count": null,
      "outputs": [
        {
          "output_type": "stream",
          "name": "stdout",
          "text": [
            "Enter a prime number : 227\n",
            "Enter a number : 14\n",
            "Alice selected (a) : 1\n",
            "Bob selected (b) : 189\n",
            "Eve selected private number for Alice (c) : 129\n",
            "Eve selected private number for Bob (d) : 63\n",
            "Alice published (ga): 14\n",
            "Bob published (gb): 216\n",
            "Eve published value for Alice (gc): 39\n",
            "Eve published value for Bob (gd): 6\n",
            "Alice computed (S1) : 39\n",
            "Eve computed key for Alice (S1) : 39\n",
            "Bob computed (S2) : 150\n",
            "Eve computed key for Bob (S2) : 150\n"
          ]
        }
      ]
    }
  ]
}